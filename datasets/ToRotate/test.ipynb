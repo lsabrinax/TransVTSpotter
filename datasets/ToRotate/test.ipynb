{
 "cells": [
  {
   "cell_type": "code",
   "execution_count": 1,
   "id": "christian-match",
   "metadata": {},
   "outputs": [],
   "source": [
    "def cal_distance(x1, y1, x2, y2):\n",
    "    '''calculate the Euclidean distance'''\n",
    "    return math.sqrt((x1 - x2) ** 2 + (y1 - y2) ** 2)"
   ]
  },
  {
   "cell_type": "code",
   "execution_count": 2,
   "id": "demanding-cornwall",
   "metadata": {},
   "outputs": [],
   "source": [
    "def get_boundary(vertices):\n",
    "    '''get the tight boundary around given vertices\n",
    "    Input:\n",
    "        vertices: vertices of text region <numpy.ndarray, (8,)>\n",
    "    Output:\n",
    "        the boundary\n",
    "    '''\n",
    "    x1, y1, x2, y2, x3, y3, x4, y4 = vertices\n",
    "    x_min = min(x1, x2, x3, x4)\n",
    "    x_max = max(x1, x2, x3, x4)\n",
    "    y_min = min(y1, y2, y3, y4)\n",
    "    y_max = max(y1, y2, y3, y4)\n",
    "    return x_min, x_max, y_min, y_max"
   ]
  },
  {
   "cell_type": "code",
   "execution_count": 3,
   "id": "polished-alloy",
   "metadata": {},
   "outputs": [],
   "source": [
    "def cal_error(vertices):\n",
    "    '''default orientation is x1y1 : left-top, x2y2 : right-top, x3y3 : right-bot, x4y4 : left-bot\n",
    "    calculate the difference between the vertices orientation and default orientation\n",
    "    Input:\n",
    "        vertices: vertices of text region <numpy.ndarray, (8,)>\n",
    "    Output:\n",
    "        err     : difference measure\n",
    "    '''\n",
    "    x_min, x_max, y_min, y_max = get_boundary(vertices)\n",
    "    x1, y1, x2, y2, x3, y3, x4, y4 = vertices\n",
    "    err = cal_distance(x1, y1, x_min, y_min) + cal_distance(x2, y2, x_max, y_min) + \\\n",
    "          cal_distance(x3, y3, x_max, y_max) + cal_distance(x4, y4, x_min, y_max)\n",
    "    return err"
   ]
  },
  {
   "cell_type": "code",
   "execution_count": 4,
   "id": "complete-carol",
   "metadata": {},
   "outputs": [],
   "source": [
    "def get_rotate_mat(theta):\n",
    "    '''positive theta value means rotate clockwise'''\n",
    "    return np.array([[math.cos(theta), -math.sin(theta)], [math.sin(theta), math.cos(theta)]])"
   ]
  },
  {
   "cell_type": "code",
   "execution_count": 9,
   "id": "impressive-brazilian",
   "metadata": {},
   "outputs": [],
   "source": [
    "def rotate_vertices(vertices, theta, anchor=None):\n",
    "    '''rotate vertices around anchor\n",
    "    Input:\n",
    "        vertices: vertices of text region <numpy.ndarray, (8,)>\n",
    "        theta   : angle in radian measure\n",
    "        anchor  : fixed position during rotation\n",
    "    Output:\n",
    "        rotated vertices <numpy.ndarray, (8,)>\n",
    "    '''\n",
    "    v = vertices.reshape((4, 2)).T\n",
    "    if anchor is None:\n",
    "        anchor = v[:, :1]\n",
    "        anchor = np.array([[v[0].sum()],[v[1].sum()]])/4\n",
    "#     print(v)\n",
    "#     print(anchor)\n",
    "    rotate_mat = get_rotate_mat(theta)\n",
    "    res = np.dot(rotate_mat, v - anchor)\n",
    "    return (res + anchor).T.reshape(-1)"
   ]
  },
  {
   "cell_type": "code",
   "execution_count": 10,
   "id": "rising-situation",
   "metadata": {},
   "outputs": [],
   "source": [
    "def find_min_rect_angle(vertices):\n",
    "    '''find the best angle to rotate poly and obtain min rectangle\n",
    "    Input:\n",
    "        vertices: vertices of text region <numpy.ndarray, (8,)>\n",
    "    Output:\n",
    "        the best angle <radian measure>\n",
    "    '''\n",
    "    angle_interval = 1\n",
    "    angle_list = list(range(-90, 90, angle_interval))\n",
    "    area_list = []\n",
    "    for theta in angle_list:\n",
    "        rotated = rotate_vertices(vertices, theta / 180 * math.pi)\n",
    "        x1, y1, x2, y2, x3, y3, x4, y4 = rotated\n",
    "        temp_area = (max(x1, x2, x3, x4) - min(x1, x2, x3, x4)) * \\\n",
    "                    (max(y1, y2, y3, y4) - min(y1, y2, y3, y4))\n",
    "        area_list.append(temp_area)\n",
    "\n",
    "    sorted_area_index = sorted(list(range(len(area_list))), key=lambda k: area_list[k])\n",
    "    min_error = float('inf')\n",
    "    best_index = -1\n",
    "    rank_num = 10\n",
    "    # find the best angle with correct orientation\n",
    "    for index in sorted_area_index[:rank_num]:\n",
    "        rotated = rotate_vertices(vertices, angle_list[index] / 180 * math.pi)\n",
    "        temp_error = cal_error(rotated)\n",
    "        if temp_error < min_error:\n",
    "            min_error = temp_error\n",
    "            best_index = index\n",
    "    return angle_list[best_index] / 180 * math.pi"
   ]
  },
  {
   "cell_type": "code",
   "execution_count": 15,
   "id": "younger-wedding",
   "metadata": {},
   "outputs": [
    {
     "name": "stdout",
     "output_type": "stream",
     "text": [
      "1\n",
      "-1\n"
     ]
    },
    {
     "data": {
      "image/png": "[encoded data removed]",
      "text/plain": [
       "<Figure size 432x288 with 1 Axes>"
      ]
     },
     "metadata": {
      "needs_background": "light"
     },
     "output_type": "display_data"
    },
    {
     "data": {
      "image/png": "[encoded data removed]",
      "text/plain": [
       "<Figure size 432x288 with 1 Axes>"
      ]
     },
     "metadata": {
      "needs_background": "light"
     },
     "output_type": "display_data"
    },
    {
     "data": {
      "image/png": "[encoded data removed]",
      "text/plain": [
       "<Figure size 432x288 with 1 Axes>"
      ]
     },
     "metadata": {
      "needs_background": "light"
     },
     "output_type": "display_data"
    }
   ],
   "source": [
    "import matplotlib.pyplot as plt\n",
    "import os\n",
    "import numpy as np\n",
    "import cv2\n",
    "import math\n",
    "\n",
    "box = [377,117,463,117,465,130,378,130]\n",
    "box1 = np.array([420,251,726,236,727,154,421,163])\n",
    "mask = np.zeros((800, 800), np.float32)\n",
    "# poly = np.around(np.array(box).reshape((4, 2))).astype(np.int32)\n",
    "# cv2.fillPoly(mask, [poly], 255)\n",
    "\n",
    "box1 = cv2.minAreaRect(box1.reshape((4, 2)))\n",
    "# 获取矩形四个顶点，浮点型\n",
    "box1 = cv2.boxPoints(box1).reshape((-1))\n",
    "# print(box1)\n",
    "\n",
    "# print(box1[::2].sum()/4)\n",
    "# print(box1[1::2].sum()/4)\n",
    "theta = find_min_rect_angle(box1)\n",
    "# print(theta)\n",
    "rotate_mat = get_rotate_mat(theta)\n",
    "# anchor = np.array([box1[::2].sum()/4,box1[1::2].sum()/4])\n",
    "\n",
    "theta=1\n",
    "print(theta)\n",
    "rotated_vertices = rotate_vertices(box1, theta)\n",
    "x_min, x_max, y_min, y_max = get_boundary(rotated_vertices)\n",
    "# print(x_min, x_max, y_min, y_max)\n",
    "\n",
    "# print(rotated_vertices[::2].sum()/4)\n",
    "# print(rotated_vertices[1::2].sum()/4)\n",
    "\n",
    "theta=-1\n",
    "print(theta)\n",
    "rotated_vertices1 = rotate_vertices(box1, theta)\n",
    "x_min, x_max, y_min, y_max = get_boundary(rotated_vertices)\n",
    "\n",
    "mask2 = np.zeros((800, 800), np.float32)\n",
    "poly = np.around(np.array(rotated_vertices1).reshape((4, 2))).astype(np.int32)\n",
    "cv2.fillPoly(mask2, [poly], 255)\n",
    "\n",
    "mask1 = np.zeros((800, 800), np.float32)\n",
    "poly = np.around(np.array(rotated_vertices).reshape((4, 2))).astype(np.int32)\n",
    "cv2.fillPoly(mask1, [poly], 255)\n",
    "# print(mask1.sum()/255)\n",
    "# print(rotated_vertices)\n",
    "\n",
    "poly = np.around(np.array(box1).reshape((4, 2))).astype(np.int32)\n",
    "cv2.fillPoly(mask, [poly], 255)\n",
    "\n",
    "# print(mask.sum()/255)\n",
    "plt.imshow(mask)\n",
    "plt.show()\n",
    "\n",
    "plt.imshow(mask1)\n",
    "plt.show()\n",
    "\n",
    "plt.imshow(mask2)\n",
    "plt.show()"
   ]
  }
 ],
 "metadata": {
  "kernelspec": {
   "display_name": "Python 3",
   "language": "python",
   "name": "python3"
  },
  "language_info": {
   "codemirror_mode": {
    "name": "ipython",
    "version": 3
   },
   "file_extension": ".py",
   "mimetype": "text/x-python",
   "name": "python",
   "nbconvert_exporter": "python",
   "pygments_lexer": "ipython3",
   "version": "3.7.9"
  }
 },
 "nbformat": 4,
 "nbformat_minor": 5
}
